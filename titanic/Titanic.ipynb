{
 "cells": [
  {
   "cell_type": "code",
   "execution_count": 1,
   "metadata": {},
   "outputs": [
    {
     "name": "stdout",
     "output_type": "stream",
     "text": [
      "[NbConvertApp] Converting notebook Titanic.ipynb to html\n",
      "[NbConvertApp] WARNING | Alternative text is missing on 6 image(s).\n",
      "[NbConvertApp] Writing 539220 bytes to 09__notebook_as_report.html\n"
     ]
    }
   ],
   "source": [
    "!jupyter nbconvert Titanic.ipynb --to html --no-input --no-prompt --output 09__notebook_as_report.html"
   ]
  },
  {
   "cell_type": "markdown",
   "metadata": {
    "jp-MarkdownHeadingCollapsed": true
   },
   "source": [
    "## O Danych\n",
    "\n",
    "Dane o pasażerach Titanica\n",
    "\n",
    "Zbiór danych zawiera informacje o pasażerach RMS Titanic, który zatonął 15 kwietnia 1912 roku po zderzeniu z górą\n",
    "lodową. Dane obejmują takie atrybuty jak klasa podróży, wiek, płeć, liczba rodzeństwa/małżonków na pokładzie,\n",
    "liczba rodziców/dzieci na pokładzie, cena biletu oraz miejsce zaokrętowania.\n",
    "\n",
    "Zbiór zawiera także informację o tym, czy pasażer przeżył katastrofę.\n",
    "\n",
    "Titanic przewoził ponad 2,200 osób, z czego ponad 1,500 zginęło, co czyni tę katastrofę jedną z najbardziej\n",
    "tragicznych w historii morskiej.\n",
    "\n",
    "Kolumny:\n",
    "\n",
    "* **pclass** - Klasa biletu\n",
    "* **survived** - Czy pasażer przeżył katastrofę\n",
    "* **name** - Imię i nazwisko pasażera\n",
    "* **sex** - Płeć pasażera\n",
    "* **age** - Wiek pasażera\n",
    "* **sibsp** - Liczba rodzeństwa/małżonków na pokładzie\n",
    "* **parch** - Liczba rodziców/dzieci na pokładzie\n",
    "* **ticket** - Numer biletu\n",
    "* **fare** - Cena biletu\n",
    "* **cabin** - Numer kabiny\n",
    "* **embarked** - Port, w którym pasażer wszedł na pokład (C = Cherbourg, Q = Queenstown, S = Southampton)\n",
    "* **boat** - Numer łodzi ratunkowej\n",
    "* **body** - Numer ciała (jeśli pasażer nie przeżył i ciało zostało odnalezione)\n",
    "* **home.dest** - Miejsce docelowe"
   ]
  },
  {
   "cell_type": "markdown",
   "metadata": {},
   "source": [
    "![RMS Titanic](https://preview.redd.it/70hdhge2b2951.png?width=640&crop=smart&auto=webp&s=44d8a0ce0e54e0a64ef71129e1778f805c11e011)"
   ]
  },
  {
   "cell_type": "markdown",
   "metadata": {},
   "source": [
    "![RMS Titanic](https://scontent-waw2-1.xx.fbcdn.net/v/t39.30808-6/341070359_605768921461890_7496459028713192087_n.jpg?_nc_cat=109&ccb=1-7&_nc_sid=6ee11a&_nc_ohc=B1eUpUEk1_kQ7kNvwGrwo0M&_nc_oc=AdmN_d34i5rj7oMCVEJtRnW6iYIDi-95cckL19l_2TiTTSxsJ5yAYPmif6K-CRvr_4J4lXXfXwMDlWgz8N80cgiH&_nc_zt=23&_nc_ht=scontent-waw2-1.xx&_nc_gid=RU2txMs2V3Dj23Hc925Kow&oh=00_AfTdZmWerg8IUlHszxFwVauVNbKr2P6qgupq6uZc8uWr0A&oe=6886713E)"
   ]
  },
  {
   "cell_type": "markdown",
   "metadata": {},
   "source": [
    "![RMS Titanic](https://blogger.googleusercontent.com/img/b/R29vZ2xl/AVvXsEi_zYnhos67_KoB1jQTXmno84co-YAzxpo90Cg-3kEs1MN5RNBWpN8cPh3lmphqevmHDjnIUhu5NlMPvkDQDhEZKfdafhza4zhveOHZbQrX6Xy9b4l7VpisfwHmHyIgDpBRJqjiJ0NnFOg/s1600/Titanic_breaks_in_half.jpg)"
   ]
  },
  {
   "cell_type": "markdown",
   "metadata": {},
   "source": [
    "![map](https://titanicfacts.net/wp-content/uploads/2018/06/titanic-maiden-voyage-route.gif)"
   ]
  },
  {
   "cell_type": "markdown",
   "metadata": {},
   "source": [
    "# 1. Analiza wstepna"
   ]
  },
  {
   "cell_type": "code",
   "execution_count": 2,
   "metadata": {
    "jupyter": {
     "source_hidden": true
    }
   },
   "outputs": [],
   "source": [
    "import pandas as pd"
   ]
  },
  {
   "cell_type": "code",
   "execution_count": 3,
   "metadata": {
    "jupyter": {
     "source_hidden": true
    }
   },
   "outputs": [
    {
     "data": {
      "text/html": [
       "<div>\n",
       "<style scoped>\n",
       "    .dataframe tbody tr th:only-of-type {\n",
       "        vertical-align: middle;\n",
       "    }\n",
       "\n",
       "    .dataframe tbody tr th {\n",
       "        vertical-align: top;\n",
       "    }\n",
       "\n",
       "    .dataframe thead th {\n",
       "        text-align: right;\n",
       "    }\n",
       "</style>\n",
       "<table border=\"1\" class=\"dataframe\">\n",
       "  <thead>\n",
       "    <tr style=\"text-align: right;\">\n",
       "      <th></th>\n",
       "      <th>pclass</th>\n",
       "      <th>survived</th>\n",
       "      <th>name</th>\n",
       "      <th>sex</th>\n",
       "      <th>age</th>\n",
       "      <th>sibsp</th>\n",
       "      <th>parch</th>\n",
       "      <th>ticket</th>\n",
       "      <th>fare</th>\n",
       "      <th>cabin</th>\n",
       "      <th>embarked</th>\n",
       "      <th>boat</th>\n",
       "      <th>body</th>\n",
       "      <th>home.dest</th>\n",
       "    </tr>\n",
       "  </thead>\n",
       "  <tbody>\n",
       "    <tr>\n",
       "      <th>0</th>\n",
       "      <td>1.0</td>\n",
       "      <td>1.0</td>\n",
       "      <td>Allen, Miss. Elisabeth Walton</td>\n",
       "      <td>female</td>\n",
       "      <td>29.0000</td>\n",
       "      <td>0.0</td>\n",
       "      <td>0.0</td>\n",
       "      <td>24160</td>\n",
       "      <td>211.3375</td>\n",
       "      <td>B5</td>\n",
       "      <td>S</td>\n",
       "      <td>2</td>\n",
       "      <td>NaN</td>\n",
       "      <td>St Louis, MO</td>\n",
       "    </tr>\n",
       "    <tr>\n",
       "      <th>1</th>\n",
       "      <td>1.0</td>\n",
       "      <td>1.0</td>\n",
       "      <td>Allison, Master. Hudson Trevor</td>\n",
       "      <td>male</td>\n",
       "      <td>0.9167</td>\n",
       "      <td>1.0</td>\n",
       "      <td>2.0</td>\n",
       "      <td>113781</td>\n",
       "      <td>151.5500</td>\n",
       "      <td>C22 C26</td>\n",
       "      <td>S</td>\n",
       "      <td>11</td>\n",
       "      <td>NaN</td>\n",
       "      <td>Montreal, PQ / Chesterville, ON</td>\n",
       "    </tr>\n",
       "    <tr>\n",
       "      <th>2</th>\n",
       "      <td>1.0</td>\n",
       "      <td>0.0</td>\n",
       "      <td>Allison, Miss. Helen Loraine</td>\n",
       "      <td>female</td>\n",
       "      <td>2.0000</td>\n",
       "      <td>1.0</td>\n",
       "      <td>2.0</td>\n",
       "      <td>113781</td>\n",
       "      <td>151.5500</td>\n",
       "      <td>C22 C26</td>\n",
       "      <td>S</td>\n",
       "      <td>NaN</td>\n",
       "      <td>NaN</td>\n",
       "      <td>Montreal, PQ / Chesterville, ON</td>\n",
       "    </tr>\n",
       "    <tr>\n",
       "      <th>3</th>\n",
       "      <td>1.0</td>\n",
       "      <td>0.0</td>\n",
       "      <td>Allison, Mr. Hudson Joshua Creighton</td>\n",
       "      <td>male</td>\n",
       "      <td>30.0000</td>\n",
       "      <td>1.0</td>\n",
       "      <td>2.0</td>\n",
       "      <td>113781</td>\n",
       "      <td>151.5500</td>\n",
       "      <td>C22 C26</td>\n",
       "      <td>S</td>\n",
       "      <td>NaN</td>\n",
       "      <td>135.0</td>\n",
       "      <td>Montreal, PQ / Chesterville, ON</td>\n",
       "    </tr>\n",
       "    <tr>\n",
       "      <th>4</th>\n",
       "      <td>1.0</td>\n",
       "      <td>0.0</td>\n",
       "      <td>Allison, Mrs. Hudson J C (Bessie Waldo Daniels)</td>\n",
       "      <td>female</td>\n",
       "      <td>25.0000</td>\n",
       "      <td>1.0</td>\n",
       "      <td>2.0</td>\n",
       "      <td>113781</td>\n",
       "      <td>151.5500</td>\n",
       "      <td>C22 C26</td>\n",
       "      <td>S</td>\n",
       "      <td>NaN</td>\n",
       "      <td>NaN</td>\n",
       "      <td>Montreal, PQ / Chesterville, ON</td>\n",
       "    </tr>\n",
       "    <tr>\n",
       "      <th>...</th>\n",
       "      <td>...</td>\n",
       "      <td>...</td>\n",
       "      <td>...</td>\n",
       "      <td>...</td>\n",
       "      <td>...</td>\n",
       "      <td>...</td>\n",
       "      <td>...</td>\n",
       "      <td>...</td>\n",
       "      <td>...</td>\n",
       "      <td>...</td>\n",
       "      <td>...</td>\n",
       "      <td>...</td>\n",
       "      <td>...</td>\n",
       "      <td>...</td>\n",
       "    </tr>\n",
       "    <tr>\n",
       "      <th>1305</th>\n",
       "      <td>3.0</td>\n",
       "      <td>0.0</td>\n",
       "      <td>Zabour, Miss. Thamine</td>\n",
       "      <td>female</td>\n",
       "      <td>NaN</td>\n",
       "      <td>1.0</td>\n",
       "      <td>0.0</td>\n",
       "      <td>2665</td>\n",
       "      <td>14.4542</td>\n",
       "      <td>NaN</td>\n",
       "      <td>C</td>\n",
       "      <td>NaN</td>\n",
       "      <td>NaN</td>\n",
       "      <td>NaN</td>\n",
       "    </tr>\n",
       "    <tr>\n",
       "      <th>1306</th>\n",
       "      <td>3.0</td>\n",
       "      <td>0.0</td>\n",
       "      <td>Zakarian, Mr. Mapriededer</td>\n",
       "      <td>male</td>\n",
       "      <td>26.5000</td>\n",
       "      <td>0.0</td>\n",
       "      <td>0.0</td>\n",
       "      <td>2656</td>\n",
       "      <td>7.2250</td>\n",
       "      <td>NaN</td>\n",
       "      <td>C</td>\n",
       "      <td>NaN</td>\n",
       "      <td>304.0</td>\n",
       "      <td>NaN</td>\n",
       "    </tr>\n",
       "    <tr>\n",
       "      <th>1307</th>\n",
       "      <td>3.0</td>\n",
       "      <td>0.0</td>\n",
       "      <td>Zakarian, Mr. Ortin</td>\n",
       "      <td>male</td>\n",
       "      <td>27.0000</td>\n",
       "      <td>0.0</td>\n",
       "      <td>0.0</td>\n",
       "      <td>2670</td>\n",
       "      <td>7.2250</td>\n",
       "      <td>NaN</td>\n",
       "      <td>C</td>\n",
       "      <td>NaN</td>\n",
       "      <td>NaN</td>\n",
       "      <td>NaN</td>\n",
       "    </tr>\n",
       "    <tr>\n",
       "      <th>1308</th>\n",
       "      <td>3.0</td>\n",
       "      <td>0.0</td>\n",
       "      <td>Zimmerman, Mr. Leo</td>\n",
       "      <td>male</td>\n",
       "      <td>29.0000</td>\n",
       "      <td>0.0</td>\n",
       "      <td>0.0</td>\n",
       "      <td>315082</td>\n",
       "      <td>7.8750</td>\n",
       "      <td>NaN</td>\n",
       "      <td>S</td>\n",
       "      <td>NaN</td>\n",
       "      <td>NaN</td>\n",
       "      <td>NaN</td>\n",
       "    </tr>\n",
       "    <tr>\n",
       "      <th>1309</th>\n",
       "      <td>NaN</td>\n",
       "      <td>NaN</td>\n",
       "      <td>NaN</td>\n",
       "      <td>NaN</td>\n",
       "      <td>NaN</td>\n",
       "      <td>NaN</td>\n",
       "      <td>NaN</td>\n",
       "      <td>NaN</td>\n",
       "      <td>NaN</td>\n",
       "      <td>NaN</td>\n",
       "      <td>NaN</td>\n",
       "      <td>NaN</td>\n",
       "      <td>NaN</td>\n",
       "      <td>NaN</td>\n",
       "    </tr>\n",
       "  </tbody>\n",
       "</table>\n",
       "<p>1310 rows × 14 columns</p>\n",
       "</div>"
      ],
      "text/plain": [
       "      pclass  survived                                             name  \\\n",
       "0        1.0       1.0                    Allen, Miss. Elisabeth Walton   \n",
       "1        1.0       1.0                   Allison, Master. Hudson Trevor   \n",
       "2        1.0       0.0                     Allison, Miss. Helen Loraine   \n",
       "3        1.0       0.0             Allison, Mr. Hudson Joshua Creighton   \n",
       "4        1.0       0.0  Allison, Mrs. Hudson J C (Bessie Waldo Daniels)   \n",
       "...      ...       ...                                              ...   \n",
       "1305     3.0       0.0                            Zabour, Miss. Thamine   \n",
       "1306     3.0       0.0                        Zakarian, Mr. Mapriededer   \n",
       "1307     3.0       0.0                              Zakarian, Mr. Ortin   \n",
       "1308     3.0       0.0                               Zimmerman, Mr. Leo   \n",
       "1309     NaN       NaN                                              NaN   \n",
       "\n",
       "         sex      age  sibsp  parch  ticket      fare    cabin embarked boat  \\\n",
       "0     female  29.0000    0.0    0.0   24160  211.3375       B5        S    2   \n",
       "1       male   0.9167    1.0    2.0  113781  151.5500  C22 C26        S   11   \n",
       "2     female   2.0000    1.0    2.0  113781  151.5500  C22 C26        S  NaN   \n",
       "3       male  30.0000    1.0    2.0  113781  151.5500  C22 C26        S  NaN   \n",
       "4     female  25.0000    1.0    2.0  113781  151.5500  C22 C26        S  NaN   \n",
       "...      ...      ...    ...    ...     ...       ...      ...      ...  ...   \n",
       "1305  female      NaN    1.0    0.0    2665   14.4542      NaN        C  NaN   \n",
       "1306    male  26.5000    0.0    0.0    2656    7.2250      NaN        C  NaN   \n",
       "1307    male  27.0000    0.0    0.0    2670    7.2250      NaN        C  NaN   \n",
       "1308    male  29.0000    0.0    0.0  315082    7.8750      NaN        S  NaN   \n",
       "1309     NaN      NaN    NaN    NaN     NaN       NaN      NaN      NaN  NaN   \n",
       "\n",
       "       body                        home.dest  \n",
       "0       NaN                     St Louis, MO  \n",
       "1       NaN  Montreal, PQ / Chesterville, ON  \n",
       "2       NaN  Montreal, PQ / Chesterville, ON  \n",
       "3     135.0  Montreal, PQ / Chesterville, ON  \n",
       "4       NaN  Montreal, PQ / Chesterville, ON  \n",
       "...     ...                              ...  \n",
       "1305    NaN                              NaN  \n",
       "1306  304.0                              NaN  \n",
       "1307    NaN                              NaN  \n",
       "1308    NaN                              NaN  \n",
       "1309    NaN                              NaN  \n",
       "\n",
       "[1310 rows x 14 columns]"
      ]
     },
     "execution_count": 3,
     "metadata": {},
     "output_type": "execute_result"
    }
   ],
   "source": [
    "df = pd.read_csv('26__titanic.csv', sep=\",\")\n",
    "df"
   ]
  },
  {
   "cell_type": "markdown",
   "metadata": {},
   "source": [
    "### Wgrajmy kilka razy 10 losowych rzedow w celu dokladniejszych obserwacji:"
   ]
  },
  {
   "cell_type": "code",
   "execution_count": 4,
   "metadata": {
    "jupyter": {
     "source_hidden": true
    }
   },
   "outputs": [
    {
     "data": {
      "text/html": [
       "<div>\n",
       "<style scoped>\n",
       "    .dataframe tbody tr th:only-of-type {\n",
       "        vertical-align: middle;\n",
       "    }\n",
       "\n",
       "    .dataframe tbody tr th {\n",
       "        vertical-align: top;\n",
       "    }\n",
       "\n",
       "    .dataframe thead th {\n",
       "        text-align: right;\n",
       "    }\n",
       "</style>\n",
       "<table border=\"1\" class=\"dataframe\">\n",
       "  <thead>\n",
       "    <tr style=\"text-align: right;\">\n",
       "      <th></th>\n",
       "      <th>pclass</th>\n",
       "      <th>survived</th>\n",
       "      <th>name</th>\n",
       "      <th>sex</th>\n",
       "      <th>age</th>\n",
       "      <th>sibsp</th>\n",
       "      <th>parch</th>\n",
       "      <th>ticket</th>\n",
       "      <th>fare</th>\n",
       "      <th>cabin</th>\n",
       "      <th>embarked</th>\n",
       "      <th>boat</th>\n",
       "      <th>body</th>\n",
       "      <th>home.dest</th>\n",
       "    </tr>\n",
       "  </thead>\n",
       "  <tbody>\n",
       "    <tr>\n",
       "      <th>1087</th>\n",
       "      <td>3.0</td>\n",
       "      <td>0.0</td>\n",
       "      <td>Olsson, Mr. Nils Johan Goransson</td>\n",
       "      <td>male</td>\n",
       "      <td>28.0</td>\n",
       "      <td>0.0</td>\n",
       "      <td>0.0</td>\n",
       "      <td>347464</td>\n",
       "      <td>7.8542</td>\n",
       "      <td>NaN</td>\n",
       "      <td>S</td>\n",
       "      <td>NaN</td>\n",
       "      <td>NaN</td>\n",
       "      <td>NaN</td>\n",
       "    </tr>\n",
       "    <tr>\n",
       "      <th>586</th>\n",
       "      <td>2.0</td>\n",
       "      <td>1.0</td>\n",
       "      <td>Weisz, Mrs. Leopold (Mathilde Francoise Pede)</td>\n",
       "      <td>female</td>\n",
       "      <td>29.0</td>\n",
       "      <td>1.0</td>\n",
       "      <td>0.0</td>\n",
       "      <td>228414</td>\n",
       "      <td>26.0000</td>\n",
       "      <td>NaN</td>\n",
       "      <td>S</td>\n",
       "      <td>10</td>\n",
       "      <td>NaN</td>\n",
       "      <td>Bromsgrove, England / Montreal, PQ</td>\n",
       "    </tr>\n",
       "    <tr>\n",
       "      <th>547</th>\n",
       "      <td>2.0</td>\n",
       "      <td>0.0</td>\n",
       "      <td>Richard, Mr. Emile</td>\n",
       "      <td>male</td>\n",
       "      <td>23.0</td>\n",
       "      <td>0.0</td>\n",
       "      <td>0.0</td>\n",
       "      <td>SC/PARIS 2133</td>\n",
       "      <td>15.0458</td>\n",
       "      <td>NaN</td>\n",
       "      <td>C</td>\n",
       "      <td>NaN</td>\n",
       "      <td>NaN</td>\n",
       "      <td>Paris / Montreal, PQ</td>\n",
       "    </tr>\n",
       "    <tr>\n",
       "      <th>1011</th>\n",
       "      <td>3.0</td>\n",
       "      <td>0.0</td>\n",
       "      <td>McNamee, Mrs. Neal (Eileen O'Leary)</td>\n",
       "      <td>female</td>\n",
       "      <td>19.0</td>\n",
       "      <td>1.0</td>\n",
       "      <td>0.0</td>\n",
       "      <td>376566</td>\n",
       "      <td>16.1000</td>\n",
       "      <td>NaN</td>\n",
       "      <td>S</td>\n",
       "      <td>NaN</td>\n",
       "      <td>53.0</td>\n",
       "      <td>NaN</td>\n",
       "    </tr>\n",
       "    <tr>\n",
       "      <th>673</th>\n",
       "      <td>3.0</td>\n",
       "      <td>0.0</td>\n",
       "      <td>Betros, Mr. Tannous</td>\n",
       "      <td>male</td>\n",
       "      <td>20.0</td>\n",
       "      <td>0.0</td>\n",
       "      <td>0.0</td>\n",
       "      <td>2648</td>\n",
       "      <td>4.0125</td>\n",
       "      <td>NaN</td>\n",
       "      <td>C</td>\n",
       "      <td>NaN</td>\n",
       "      <td>NaN</td>\n",
       "      <td>Syria</td>\n",
       "    </tr>\n",
       "    <tr>\n",
       "      <th>352</th>\n",
       "      <td>2.0</td>\n",
       "      <td>1.0</td>\n",
       "      <td>Brown, Mrs. Thomas William Solomon (Elizabeth ...</td>\n",
       "      <td>female</td>\n",
       "      <td>40.0</td>\n",
       "      <td>1.0</td>\n",
       "      <td>1.0</td>\n",
       "      <td>29750</td>\n",
       "      <td>39.0000</td>\n",
       "      <td>NaN</td>\n",
       "      <td>S</td>\n",
       "      <td>14</td>\n",
       "      <td>NaN</td>\n",
       "      <td>Cape Town, South Africa / Seattle, WA</td>\n",
       "    </tr>\n",
       "    <tr>\n",
       "      <th>802</th>\n",
       "      <td>3.0</td>\n",
       "      <td>0.0</td>\n",
       "      <td>Flynn, Mr. John</td>\n",
       "      <td>male</td>\n",
       "      <td>NaN</td>\n",
       "      <td>0.0</td>\n",
       "      <td>0.0</td>\n",
       "      <td>368323</td>\n",
       "      <td>6.9500</td>\n",
       "      <td>NaN</td>\n",
       "      <td>Q</td>\n",
       "      <td>NaN</td>\n",
       "      <td>NaN</td>\n",
       "      <td>NaN</td>\n",
       "    </tr>\n",
       "    <tr>\n",
       "      <th>591</th>\n",
       "      <td>2.0</td>\n",
       "      <td>1.0</td>\n",
       "      <td>West, Miss. Constance Mirium</td>\n",
       "      <td>female</td>\n",
       "      <td>5.0</td>\n",
       "      <td>1.0</td>\n",
       "      <td>2.0</td>\n",
       "      <td>C.A. 34651</td>\n",
       "      <td>27.7500</td>\n",
       "      <td>NaN</td>\n",
       "      <td>S</td>\n",
       "      <td>10</td>\n",
       "      <td>NaN</td>\n",
       "      <td>Bournmouth, England</td>\n",
       "    </tr>\n",
       "    <tr>\n",
       "      <th>565</th>\n",
       "      <td>2.0</td>\n",
       "      <td>0.0</td>\n",
       "      <td>Sobey, Mr. Samuel James Hayden</td>\n",
       "      <td>male</td>\n",
       "      <td>25.0</td>\n",
       "      <td>0.0</td>\n",
       "      <td>0.0</td>\n",
       "      <td>C.A. 29178</td>\n",
       "      <td>13.0000</td>\n",
       "      <td>NaN</td>\n",
       "      <td>S</td>\n",
       "      <td>NaN</td>\n",
       "      <td>NaN</td>\n",
       "      <td>Cornwall / Houghton, MI</td>\n",
       "    </tr>\n",
       "    <tr>\n",
       "      <th>1062</th>\n",
       "      <td>3.0</td>\n",
       "      <td>0.0</td>\n",
       "      <td>Nilsson, Mr. August Ferdinand</td>\n",
       "      <td>male</td>\n",
       "      <td>21.0</td>\n",
       "      <td>0.0</td>\n",
       "      <td>0.0</td>\n",
       "      <td>350410</td>\n",
       "      <td>7.8542</td>\n",
       "      <td>NaN</td>\n",
       "      <td>S</td>\n",
       "      <td>NaN</td>\n",
       "      <td>NaN</td>\n",
       "      <td>NaN</td>\n",
       "    </tr>\n",
       "  </tbody>\n",
       "</table>\n",
       "</div>"
      ],
      "text/plain": [
       "      pclass  survived                                               name  \\\n",
       "1087     3.0       0.0                   Olsson, Mr. Nils Johan Goransson   \n",
       "586      2.0       1.0      Weisz, Mrs. Leopold (Mathilde Francoise Pede)   \n",
       "547      2.0       0.0                                 Richard, Mr. Emile   \n",
       "1011     3.0       0.0                McNamee, Mrs. Neal (Eileen O'Leary)   \n",
       "673      3.0       0.0                                Betros, Mr. Tannous   \n",
       "352      2.0       1.0  Brown, Mrs. Thomas William Solomon (Elizabeth ...   \n",
       "802      3.0       0.0                                    Flynn, Mr. John   \n",
       "591      2.0       1.0                       West, Miss. Constance Mirium   \n",
       "565      2.0       0.0                     Sobey, Mr. Samuel James Hayden   \n",
       "1062     3.0       0.0                      Nilsson, Mr. August Ferdinand   \n",
       "\n",
       "         sex   age  sibsp  parch         ticket     fare cabin embarked boat  \\\n",
       "1087    male  28.0    0.0    0.0         347464   7.8542   NaN        S  NaN   \n",
       "586   female  29.0    1.0    0.0         228414  26.0000   NaN        S   10   \n",
       "547     male  23.0    0.0    0.0  SC/PARIS 2133  15.0458   NaN        C  NaN   \n",
       "1011  female  19.0    1.0    0.0         376566  16.1000   NaN        S  NaN   \n",
       "673     male  20.0    0.0    0.0           2648   4.0125   NaN        C  NaN   \n",
       "352   female  40.0    1.0    1.0          29750  39.0000   NaN        S   14   \n",
       "802     male   NaN    0.0    0.0         368323   6.9500   NaN        Q  NaN   \n",
       "591   female   5.0    1.0    2.0     C.A. 34651  27.7500   NaN        S   10   \n",
       "565     male  25.0    0.0    0.0     C.A. 29178  13.0000   NaN        S  NaN   \n",
       "1062    male  21.0    0.0    0.0         350410   7.8542   NaN        S  NaN   \n",
       "\n",
       "      body                              home.dest  \n",
       "1087   NaN                                    NaN  \n",
       "586    NaN     Bromsgrove, England / Montreal, PQ  \n",
       "547    NaN                   Paris / Montreal, PQ  \n",
       "1011  53.0                                    NaN  \n",
       "673    NaN                                  Syria  \n",
       "352    NaN  Cape Town, South Africa / Seattle, WA  \n",
       "802    NaN                                    NaN  \n",
       "591    NaN                    Bournmouth, England  \n",
       "565    NaN                Cornwall / Houghton, MI  \n",
       "1062   NaN                                    NaN  "
      ]
     },
     "execution_count": 4,
     "metadata": {},
     "output_type": "execute_result"
    }
   ],
   "source": [
    "df.sample (10) "
   ]
  },
  {
   "cell_type": "markdown",
   "metadata": {},
   "source": [
    "### Wstępna analiza pokazuje, ze RMS Titanic podróżowało 1310 pasażerów. Skoro na statku było 2200 osób, zakładam ze reszta tj 890 osób to zaloga. Te dane przydadzą się przy późniejszej analizie przeżywalności. Mimo ze wiemy, ze Titanic płynął przez Atlantyk do Nowego Jorku, pojawia się duża liczba miejsc docelowych, w tym Paryż i Londyn, 238 osób, w tym 1 klasa nie ma miejsca docelowego. Zastanawiam się, czy nie jest to błąd w pomiarze danych. Jest tez ogromna rozbieżność w cenach biletów. Jest 1 tajemniczy pasażer (1309) o którym nic nie wiadomo, same NaN. Pasazer 236 nie ma miejsca docelowego, mimo ze 1 klasa. Na statku były 3 klasy pasażerów, 186 kajut było rozdysponowanych pomiędzy pasażerów 1 i 2 klasy."
   ]
  },
  {
   "cell_type": "code",
   "execution_count": 5,
   "metadata": {
    "jupyter": {
     "source_hidden": true
    }
   },
   "outputs": [
    {
     "data": {
      "text/plain": [
       "pclass          3\n",
       "survived        2\n",
       "name         1307\n",
       "sex             2\n",
       "age            98\n",
       "sibsp           7\n",
       "parch           8\n",
       "ticket        929\n",
       "fare          281\n",
       "cabin         186\n",
       "embarked        3\n",
       "boat           27\n",
       "body          121\n",
       "home.dest     369\n",
       "dtype: int64"
      ]
     },
     "execution_count": 5,
     "metadata": {},
     "output_type": "execute_result"
    }
   ],
   "source": [
    "df.nunique()"
   ]
  },
  {
   "cell_type": "markdown",
   "metadata": {},
   "source": [
    "### Zwraca uwage mala liczba 27 szalup ratunkowych. 186 kajut. 121 cial odnaleziono(na 1500). Ceny biletów wykazują aż 281 unikatowych wartości! Ciekawie byloby sprawdzić od czego zależy tak duża rozbieżność."
   ]
  },
  {
   "cell_type": "code",
   "execution_count": 6,
   "metadata": {
    "jupyter": {
     "source_hidden": true
    }
   },
   "outputs": [
    {
     "data": {
      "text/html": [
       "<div>\n",
       "<style scoped>\n",
       "    .dataframe tbody tr th:only-of-type {\n",
       "        vertical-align: middle;\n",
       "    }\n",
       "\n",
       "    .dataframe tbody tr th {\n",
       "        vertical-align: top;\n",
       "    }\n",
       "\n",
       "    .dataframe thead th {\n",
       "        text-align: right;\n",
       "    }\n",
       "</style>\n",
       "<table border=\"1\" class=\"dataframe\">\n",
       "  <thead>\n",
       "    <tr style=\"text-align: right;\">\n",
       "      <th></th>\n",
       "      <th>pclass</th>\n",
       "      <th>survived</th>\n",
       "      <th>age</th>\n",
       "      <th>sibsp</th>\n",
       "      <th>parch</th>\n",
       "      <th>fare</th>\n",
       "      <th>body</th>\n",
       "    </tr>\n",
       "  </thead>\n",
       "  <tbody>\n",
       "    <tr>\n",
       "      <th>count</th>\n",
       "      <td>1309.000000</td>\n",
       "      <td>1309.000000</td>\n",
       "      <td>1046.000000</td>\n",
       "      <td>1309.000000</td>\n",
       "      <td>1309.000000</td>\n",
       "      <td>1308.000000</td>\n",
       "      <td>121.000000</td>\n",
       "    </tr>\n",
       "    <tr>\n",
       "      <th>mean</th>\n",
       "      <td>2.294882</td>\n",
       "      <td>0.381971</td>\n",
       "      <td>29.881135</td>\n",
       "      <td>0.498854</td>\n",
       "      <td>0.385027</td>\n",
       "      <td>33.295479</td>\n",
       "      <td>160.809917</td>\n",
       "    </tr>\n",
       "    <tr>\n",
       "      <th>std</th>\n",
       "      <td>0.837836</td>\n",
       "      <td>0.486055</td>\n",
       "      <td>14.413500</td>\n",
       "      <td>1.041658</td>\n",
       "      <td>0.865560</td>\n",
       "      <td>51.758668</td>\n",
       "      <td>97.696922</td>\n",
       "    </tr>\n",
       "    <tr>\n",
       "      <th>min</th>\n",
       "      <td>1.000000</td>\n",
       "      <td>0.000000</td>\n",
       "      <td>0.166700</td>\n",
       "      <td>0.000000</td>\n",
       "      <td>0.000000</td>\n",
       "      <td>0.000000</td>\n",
       "      <td>1.000000</td>\n",
       "    </tr>\n",
       "    <tr>\n",
       "      <th>25%</th>\n",
       "      <td>2.000000</td>\n",
       "      <td>0.000000</td>\n",
       "      <td>21.000000</td>\n",
       "      <td>0.000000</td>\n",
       "      <td>0.000000</td>\n",
       "      <td>7.895800</td>\n",
       "      <td>72.000000</td>\n",
       "    </tr>\n",
       "    <tr>\n",
       "      <th>50%</th>\n",
       "      <td>3.000000</td>\n",
       "      <td>0.000000</td>\n",
       "      <td>28.000000</td>\n",
       "      <td>0.000000</td>\n",
       "      <td>0.000000</td>\n",
       "      <td>14.454200</td>\n",
       "      <td>155.000000</td>\n",
       "    </tr>\n",
       "    <tr>\n",
       "      <th>75%</th>\n",
       "      <td>3.000000</td>\n",
       "      <td>1.000000</td>\n",
       "      <td>39.000000</td>\n",
       "      <td>1.000000</td>\n",
       "      <td>0.000000</td>\n",
       "      <td>31.275000</td>\n",
       "      <td>256.000000</td>\n",
       "    </tr>\n",
       "    <tr>\n",
       "      <th>max</th>\n",
       "      <td>3.000000</td>\n",
       "      <td>1.000000</td>\n",
       "      <td>80.000000</td>\n",
       "      <td>8.000000</td>\n",
       "      <td>9.000000</td>\n",
       "      <td>512.329200</td>\n",
       "      <td>328.000000</td>\n",
       "    </tr>\n",
       "  </tbody>\n",
       "</table>\n",
       "</div>"
      ],
      "text/plain": [
       "            pclass     survived          age        sibsp        parch  \\\n",
       "count  1309.000000  1309.000000  1046.000000  1309.000000  1309.000000   \n",
       "mean      2.294882     0.381971    29.881135     0.498854     0.385027   \n",
       "std       0.837836     0.486055    14.413500     1.041658     0.865560   \n",
       "min       1.000000     0.000000     0.166700     0.000000     0.000000   \n",
       "25%       2.000000     0.000000    21.000000     0.000000     0.000000   \n",
       "50%       3.000000     0.000000    28.000000     0.000000     0.000000   \n",
       "75%       3.000000     1.000000    39.000000     1.000000     0.000000   \n",
       "max       3.000000     1.000000    80.000000     8.000000     9.000000   \n",
       "\n",
       "              fare        body  \n",
       "count  1308.000000  121.000000  \n",
       "mean     33.295479  160.809917  \n",
       "std      51.758668   97.696922  \n",
       "min       0.000000    1.000000  \n",
       "25%       7.895800   72.000000  \n",
       "50%      14.454200  155.000000  \n",
       "75%      31.275000  256.000000  \n",
       "max     512.329200  328.000000  "
      ]
     },
     "execution_count": 6,
     "metadata": {},
     "output_type": "execute_result"
    }
   ],
   "source": [
    "df.describe()"
   ]
  },
  {
   "cell_type": "markdown",
   "metadata": {},
   "source": [
    "### Ogromna rozbieżność w cenach biletów od 0 czy 7 (funtów, dolarow?) do 512. Najmłodszy pasażer mial  1 miesiąc, a najstarszy 80 lat."
   ]
  },
  {
   "cell_type": "code",
   "execution_count": 7,
   "metadata": {
    "jupyter": {
     "source_hidden": true
    }
   },
   "outputs": [
    {
     "name": "stdout",
     "output_type": "stream",
     "text": [
      "<class 'pandas.core.frame.DataFrame'>\n",
      "RangeIndex: 1310 entries, 0 to 1309\n",
      "Data columns (total 14 columns):\n",
      " #   Column     Non-Null Count  Dtype  \n",
      "---  ------     --------------  -----  \n",
      " 0   pclass     1309 non-null   float64\n",
      " 1   survived   1309 non-null   float64\n",
      " 2   name       1309 non-null   object \n",
      " 3   sex        1309 non-null   object \n",
      " 4   age        1046 non-null   float64\n",
      " 5   sibsp      1309 non-null   float64\n",
      " 6   parch      1309 non-null   float64\n",
      " 7   ticket     1309 non-null   object \n",
      " 8   fare       1308 non-null   float64\n",
      " 9   cabin      295 non-null    object \n",
      " 10  embarked   1307 non-null   object \n",
      " 11  boat       486 non-null    object \n",
      " 12  body       121 non-null    float64\n",
      " 13  home.dest  745 non-null    object \n",
      "dtypes: float64(7), object(7)\n",
      "memory usage: 143.4+ KB\n"
     ]
    }
   ],
   "source": [
    "df.info ()"
   ]
  },
  {
   "cell_type": "markdown",
   "metadata": {},
   "source": [
    "### W szalupach ratunkowych bylo lacznie 486 osob"
   ]
  },
  {
   "cell_type": "code",
   "execution_count": 8,
   "metadata": {
    "jupyter": {
     "source_hidden": true
    }
   },
   "outputs": [
    {
     "data": {
      "text/plain": [
       "survived\n",
       "0.0    809\n",
       "1.0    500\n",
       "Name: count, dtype: int64"
      ]
     },
     "execution_count": 8,
     "metadata": {},
     "output_type": "execute_result"
    }
   ],
   "source": [
    "df['survived'].value_counts()"
   ]
  },
  {
   "cell_type": "markdown",
   "metadata": {},
   "source": [
    "### 500 pasazerow przezylo katastrofe, czyli 14 pasazerow nie bylo w szalupie ratunkowej i przezylo. Skoro odratowano 700 osób, w tym 500 pasażerów, przyjąć należy ze odratowano tez 200 członków załogi."
   ]
  },
  {
   "cell_type": "code",
   "execution_count": 9,
   "metadata": {
    "jupyter": {
     "source_hidden": true
    }
   },
   "outputs": [
    {
     "data": {
      "text/plain": [
       "home.dest\n",
       "New York, NY                                    64\n",
       "London                                          14\n",
       "Montreal, PQ                                    10\n",
       "Paris, France                                    9\n",
       "Cornwall / Akron, OH                             9\n",
       "                                                ..\n",
       "Chelsea, London                                  1\n",
       "Harrow-on-the-Hill, Middlesex                    1\n",
       "Copenhagen, Denmark                              1\n",
       "Guernsey / Montclair, NJ and/or Toledo, Ohio     1\n",
       "Antwerp, Belgium / Stanton, OH                   1\n",
       "Name: count, Length: 369, dtype: int64"
      ]
     },
     "execution_count": 9,
     "metadata": {},
     "output_type": "execute_result"
    }
   ],
   "source": [
    "df['home.dest'].value_counts()"
   ]
  },
  {
   "cell_type": "markdown",
   "metadata": {},
   "source": [
    "### Uwage zwracaja miejsca docelowe Londyn, Paryz i inne miasta europejskie. Sa to prawdopodobnie pasazerowie nie podrozujacy aby osiedlic sie w Ameryce, lecz plynacy na wycieczke i powracajacy pozniej do domu w Europie. Na taka podroz moglaby sobie pozwolic tylko 1 klasa, ewentualnie 2. Sprawdzmy te teze:"
   ]
  },
  {
   "cell_type": "code",
   "execution_count": 10,
   "metadata": {
    "jupyter": {
     "source_hidden": true
    }
   },
   "outputs": [
    {
     "data": {
      "text/html": [
       "<div>\n",
       "<style scoped>\n",
       "    .dataframe tbody tr th:only-of-type {\n",
       "        vertical-align: middle;\n",
       "    }\n",
       "\n",
       "    .dataframe tbody tr th {\n",
       "        vertical-align: top;\n",
       "    }\n",
       "\n",
       "    .dataframe thead th {\n",
       "        text-align: right;\n",
       "    }\n",
       "</style>\n",
       "<table border=\"1\" class=\"dataframe\">\n",
       "  <thead>\n",
       "    <tr style=\"text-align: right;\">\n",
       "      <th></th>\n",
       "      <th>pclass</th>\n",
       "      <th>survived</th>\n",
       "      <th>name</th>\n",
       "      <th>sex</th>\n",
       "      <th>age</th>\n",
       "      <th>sibsp</th>\n",
       "      <th>parch</th>\n",
       "      <th>ticket</th>\n",
       "      <th>fare</th>\n",
       "      <th>cabin</th>\n",
       "      <th>embarked</th>\n",
       "      <th>boat</th>\n",
       "      <th>body</th>\n",
       "      <th>home.dest</th>\n",
       "    </tr>\n",
       "  </thead>\n",
       "  <tbody>\n",
       "    <tr>\n",
       "      <th>12</th>\n",
       "      <td>1.0</td>\n",
       "      <td>1.0</td>\n",
       "      <td>Aubart, Mme. Leontine Pauline</td>\n",
       "      <td>female</td>\n",
       "      <td>24.0</td>\n",
       "      <td>0.0</td>\n",
       "      <td>0.0</td>\n",
       "      <td>PC 17477</td>\n",
       "      <td>69.3000</td>\n",
       "      <td>B35</td>\n",
       "      <td>C</td>\n",
       "      <td>9</td>\n",
       "      <td>NaN</td>\n",
       "      <td>Paris, France</td>\n",
       "    </tr>\n",
       "    <tr>\n",
       "      <th>68</th>\n",
       "      <td>1.0</td>\n",
       "      <td>1.0</td>\n",
       "      <td>Chevre, Mr. Paul Romaine</td>\n",
       "      <td>male</td>\n",
       "      <td>45.0</td>\n",
       "      <td>0.0</td>\n",
       "      <td>0.0</td>\n",
       "      <td>PC 17594</td>\n",
       "      <td>29.7000</td>\n",
       "      <td>A9</td>\n",
       "      <td>C</td>\n",
       "      <td>7</td>\n",
       "      <td>NaN</td>\n",
       "      <td>Paris, France</td>\n",
       "    </tr>\n",
       "    <tr>\n",
       "      <th>133</th>\n",
       "      <td>1.0</td>\n",
       "      <td>1.0</td>\n",
       "      <td>Goldenberg, Mr. Samuel L</td>\n",
       "      <td>male</td>\n",
       "      <td>49.0</td>\n",
       "      <td>1.0</td>\n",
       "      <td>0.0</td>\n",
       "      <td>17453</td>\n",
       "      <td>89.1042</td>\n",
       "      <td>C92</td>\n",
       "      <td>C</td>\n",
       "      <td>5</td>\n",
       "      <td>NaN</td>\n",
       "      <td>Paris, France / New York, NY</td>\n",
       "    </tr>\n",
       "    <tr>\n",
       "      <th>134</th>\n",
       "      <td>1.0</td>\n",
       "      <td>1.0</td>\n",
       "      <td>Goldenberg, Mrs. Samuel L (Edwiga Grabowska)</td>\n",
       "      <td>female</td>\n",
       "      <td>NaN</td>\n",
       "      <td>1.0</td>\n",
       "      <td>0.0</td>\n",
       "      <td>17453</td>\n",
       "      <td>89.1042</td>\n",
       "      <td>C92</td>\n",
       "      <td>C</td>\n",
       "      <td>5</td>\n",
       "      <td>NaN</td>\n",
       "      <td>Paris, France / New York, NY</td>\n",
       "    </tr>\n",
       "    <tr>\n",
       "      <th>169</th>\n",
       "      <td>1.0</td>\n",
       "      <td>0.0</td>\n",
       "      <td>Isham, Miss. Ann Elizabeth</td>\n",
       "      <td>female</td>\n",
       "      <td>50.0</td>\n",
       "      <td>0.0</td>\n",
       "      <td>0.0</td>\n",
       "      <td>PC 17595</td>\n",
       "      <td>28.7125</td>\n",
       "      <td>C49</td>\n",
       "      <td>C</td>\n",
       "      <td>NaN</td>\n",
       "      <td>NaN</td>\n",
       "      <td>Paris, France New York, NY</td>\n",
       "    </tr>\n",
       "    <tr>\n",
       "      <th>187</th>\n",
       "      <td>1.0</td>\n",
       "      <td>1.0</td>\n",
       "      <td>Lines, Miss. Mary Conover</td>\n",
       "      <td>female</td>\n",
       "      <td>16.0</td>\n",
       "      <td>0.0</td>\n",
       "      <td>1.0</td>\n",
       "      <td>PC 17592</td>\n",
       "      <td>39.4000</td>\n",
       "      <td>D28</td>\n",
       "      <td>S</td>\n",
       "      <td>9</td>\n",
       "      <td>NaN</td>\n",
       "      <td>Paris, France</td>\n",
       "    </tr>\n",
       "    <tr>\n",
       "      <th>188</th>\n",
       "      <td>1.0</td>\n",
       "      <td>1.0</td>\n",
       "      <td>Lines, Mrs. Ernest H (Elizabeth Lindsey James)</td>\n",
       "      <td>female</td>\n",
       "      <td>51.0</td>\n",
       "      <td>0.0</td>\n",
       "      <td>1.0</td>\n",
       "      <td>PC 17592</td>\n",
       "      <td>39.4000</td>\n",
       "      <td>D28</td>\n",
       "      <td>S</td>\n",
       "      <td>9</td>\n",
       "      <td>NaN</td>\n",
       "      <td>Paris, France</td>\n",
       "    </tr>\n",
       "    <tr>\n",
       "      <th>196</th>\n",
       "      <td>1.0</td>\n",
       "      <td>1.0</td>\n",
       "      <td>Marechal, Mr. Pierre</td>\n",
       "      <td>male</td>\n",
       "      <td>NaN</td>\n",
       "      <td>0.0</td>\n",
       "      <td>0.0</td>\n",
       "      <td>11774</td>\n",
       "      <td>29.7000</td>\n",
       "      <td>C47</td>\n",
       "      <td>C</td>\n",
       "      <td>7</td>\n",
       "      <td>NaN</td>\n",
       "      <td>Paris, France</td>\n",
       "    </tr>\n",
       "    <tr>\n",
       "      <th>219</th>\n",
       "      <td>1.0</td>\n",
       "      <td>1.0</td>\n",
       "      <td>Omont, Mr. Alfred Fernand</td>\n",
       "      <td>male</td>\n",
       "      <td>NaN</td>\n",
       "      <td>0.0</td>\n",
       "      <td>0.0</td>\n",
       "      <td>F.C. 12998</td>\n",
       "      <td>25.7417</td>\n",
       "      <td>NaN</td>\n",
       "      <td>C</td>\n",
       "      <td>7</td>\n",
       "      <td>NaN</td>\n",
       "      <td>Paris, France</td>\n",
       "    </tr>\n",
       "    <tr>\n",
       "      <th>242</th>\n",
       "      <td>1.0</td>\n",
       "      <td>1.0</td>\n",
       "      <td>Rosenbaum, Miss. Edith Louise</td>\n",
       "      <td>female</td>\n",
       "      <td>33.0</td>\n",
       "      <td>0.0</td>\n",
       "      <td>0.0</td>\n",
       "      <td>PC 17613</td>\n",
       "      <td>27.7208</td>\n",
       "      <td>A11</td>\n",
       "      <td>C</td>\n",
       "      <td>11</td>\n",
       "      <td>NaN</td>\n",
       "      <td>Paris, France</td>\n",
       "    </tr>\n",
       "    <tr>\n",
       "      <th>276</th>\n",
       "      <td>1.0</td>\n",
       "      <td>0.0</td>\n",
       "      <td>Spencer, Mr. William Augustus</td>\n",
       "      <td>male</td>\n",
       "      <td>57.0</td>\n",
       "      <td>1.0</td>\n",
       "      <td>0.0</td>\n",
       "      <td>PC 17569</td>\n",
       "      <td>146.5208</td>\n",
       "      <td>B78</td>\n",
       "      <td>C</td>\n",
       "      <td>NaN</td>\n",
       "      <td>NaN</td>\n",
       "      <td>Paris, France</td>\n",
       "    </tr>\n",
       "    <tr>\n",
       "      <th>277</th>\n",
       "      <td>1.0</td>\n",
       "      <td>1.0</td>\n",
       "      <td>Spencer, Mrs. William Augustus (Marie Eugenie)</td>\n",
       "      <td>female</td>\n",
       "      <td>NaN</td>\n",
       "      <td>1.0</td>\n",
       "      <td>0.0</td>\n",
       "      <td>PC 17569</td>\n",
       "      <td>146.5208</td>\n",
       "      <td>B78</td>\n",
       "      <td>C</td>\n",
       "      <td>6</td>\n",
       "      <td>NaN</td>\n",
       "      <td>Paris, France</td>\n",
       "    </tr>\n",
       "  </tbody>\n",
       "</table>\n",
       "</div>"
      ],
      "text/plain": [
       "     pclass  survived                                            name     sex  \\\n",
       "12      1.0       1.0                   Aubart, Mme. Leontine Pauline  female   \n",
       "68      1.0       1.0                        Chevre, Mr. Paul Romaine    male   \n",
       "133     1.0       1.0                        Goldenberg, Mr. Samuel L    male   \n",
       "134     1.0       1.0    Goldenberg, Mrs. Samuel L (Edwiga Grabowska)  female   \n",
       "169     1.0       0.0                      Isham, Miss. Ann Elizabeth  female   \n",
       "187     1.0       1.0                       Lines, Miss. Mary Conover  female   \n",
       "188     1.0       1.0  Lines, Mrs. Ernest H (Elizabeth Lindsey James)  female   \n",
       "196     1.0       1.0                            Marechal, Mr. Pierre    male   \n",
       "219     1.0       1.0                       Omont, Mr. Alfred Fernand    male   \n",
       "242     1.0       1.0                   Rosenbaum, Miss. Edith Louise  female   \n",
       "276     1.0       0.0                   Spencer, Mr. William Augustus    male   \n",
       "277     1.0       1.0  Spencer, Mrs. William Augustus (Marie Eugenie)  female   \n",
       "\n",
       "      age  sibsp  parch      ticket      fare cabin embarked boat  body  \\\n",
       "12   24.0    0.0    0.0    PC 17477   69.3000   B35        C    9   NaN   \n",
       "68   45.0    0.0    0.0    PC 17594   29.7000    A9        C    7   NaN   \n",
       "133  49.0    1.0    0.0       17453   89.1042   C92        C    5   NaN   \n",
       "134   NaN    1.0    0.0       17453   89.1042   C92        C    5   NaN   \n",
       "169  50.0    0.0    0.0    PC 17595   28.7125   C49        C  NaN   NaN   \n",
       "187  16.0    0.0    1.0    PC 17592   39.4000   D28        S    9   NaN   \n",
       "188  51.0    0.0    1.0    PC 17592   39.4000   D28        S    9   NaN   \n",
       "196   NaN    0.0    0.0       11774   29.7000   C47        C    7   NaN   \n",
       "219   NaN    0.0    0.0  F.C. 12998   25.7417   NaN        C    7   NaN   \n",
       "242  33.0    0.0    0.0    PC 17613   27.7208   A11        C   11   NaN   \n",
       "276  57.0    1.0    0.0    PC 17569  146.5208   B78        C  NaN   NaN   \n",
       "277   NaN    1.0    0.0    PC 17569  146.5208   B78        C    6   NaN   \n",
       "\n",
       "                        home.dest  \n",
       "12                  Paris, France  \n",
       "68                  Paris, France  \n",
       "133  Paris, France / New York, NY  \n",
       "134  Paris, France / New York, NY  \n",
       "169    Paris, France New York, NY  \n",
       "187                 Paris, France  \n",
       "188                 Paris, France  \n",
       "196                 Paris, France  \n",
       "219                 Paris, France  \n",
       "242                 Paris, France  \n",
       "276                 Paris, France  \n",
       "277                 Paris, France  "
      ]
     },
     "execution_count": 10,
     "metadata": {},
     "output_type": "execute_result"
    }
   ],
   "source": [
    "Paryzanie = df[df['home.dest'].str.contains('Paris, France', na=False)]\n",
    "Paryzanie_klasa = Paryzanie['pclass']\n",
    "result = {\n",
    "    \"type\": \"dataframe\",\n",
    "    \"value\": Paryzanie_klasa}\n",
    "Paryzanie"
   ]
  },
  {
   "cell_type": "markdown",
   "metadata": {},
   "source": [
    "### Teza potwierdzila sie, wszyscy Paryzanie to pasazerowie 1 klasy"
   ]
  },
  {
   "cell_type": "code",
   "execution_count": 11,
   "metadata": {
    "jupyter": {
     "source_hidden": true
    }
   },
   "outputs": [
    {
     "data": {
      "text/html": [
       "<div>\n",
       "<style scoped>\n",
       "    .dataframe tbody tr th:only-of-type {\n",
       "        vertical-align: middle;\n",
       "    }\n",
       "\n",
       "    .dataframe tbody tr th {\n",
       "        vertical-align: top;\n",
       "    }\n",
       "\n",
       "    .dataframe thead th {\n",
       "        text-align: right;\n",
       "    }\n",
       "</style>\n",
       "<table border=\"1\" class=\"dataframe\">\n",
       "  <thead>\n",
       "    <tr style=\"text-align: right;\">\n",
       "      <th></th>\n",
       "      <th>pclass</th>\n",
       "      <th>survived</th>\n",
       "      <th>name</th>\n",
       "      <th>sex</th>\n",
       "      <th>age</th>\n",
       "      <th>sibsp</th>\n",
       "      <th>parch</th>\n",
       "      <th>ticket</th>\n",
       "      <th>fare</th>\n",
       "      <th>cabin</th>\n",
       "      <th>embarked</th>\n",
       "      <th>boat</th>\n",
       "      <th>body</th>\n",
       "      <th>home.dest</th>\n",
       "    </tr>\n",
       "  </thead>\n",
       "  <tbody>\n",
       "    <tr>\n",
       "      <th>0</th>\n",
       "      <td>1.0</td>\n",
       "      <td>1.0</td>\n",
       "      <td>Allen, Miss. Elisabeth Walton</td>\n",
       "      <td>female</td>\n",
       "      <td>29.0000</td>\n",
       "      <td>0.0</td>\n",
       "      <td>0.0</td>\n",
       "      <td>24160</td>\n",
       "      <td>211.3375</td>\n",
       "      <td>B5</td>\n",
       "      <td>S</td>\n",
       "      <td>2</td>\n",
       "      <td>NaN</td>\n",
       "      <td>St Louis, MO</td>\n",
       "    </tr>\n",
       "    <tr>\n",
       "      <th>1</th>\n",
       "      <td>1.0</td>\n",
       "      <td>1.0</td>\n",
       "      <td>Allison, Master. Hudson Trevor</td>\n",
       "      <td>male</td>\n",
       "      <td>0.9167</td>\n",
       "      <td>1.0</td>\n",
       "      <td>2.0</td>\n",
       "      <td>113781</td>\n",
       "      <td>151.5500</td>\n",
       "      <td>C22 C26</td>\n",
       "      <td>S</td>\n",
       "      <td>11</td>\n",
       "      <td>NaN</td>\n",
       "      <td>Montreal, PQ / Chesterville, ON</td>\n",
       "    </tr>\n",
       "    <tr>\n",
       "      <th>2</th>\n",
       "      <td>1.0</td>\n",
       "      <td>0.0</td>\n",
       "      <td>Allison, Miss. Helen Loraine</td>\n",
       "      <td>female</td>\n",
       "      <td>2.0000</td>\n",
       "      <td>1.0</td>\n",
       "      <td>2.0</td>\n",
       "      <td>113781</td>\n",
       "      <td>151.5500</td>\n",
       "      <td>C22 C26</td>\n",
       "      <td>S</td>\n",
       "      <td>NaN</td>\n",
       "      <td>NaN</td>\n",
       "      <td>Montreal, PQ / Chesterville, ON</td>\n",
       "    </tr>\n",
       "    <tr>\n",
       "      <th>3</th>\n",
       "      <td>1.0</td>\n",
       "      <td>0.0</td>\n",
       "      <td>Allison, Mr. Hudson Joshua Creighton</td>\n",
       "      <td>male</td>\n",
       "      <td>30.0000</td>\n",
       "      <td>1.0</td>\n",
       "      <td>2.0</td>\n",
       "      <td>113781</td>\n",
       "      <td>151.5500</td>\n",
       "      <td>C22 C26</td>\n",
       "      <td>S</td>\n",
       "      <td>NaN</td>\n",
       "      <td>135.0</td>\n",
       "      <td>Montreal, PQ / Chesterville, ON</td>\n",
       "    </tr>\n",
       "    <tr>\n",
       "      <th>4</th>\n",
       "      <td>1.0</td>\n",
       "      <td>0.0</td>\n",
       "      <td>Allison, Mrs. Hudson J C (Bessie Waldo Daniels)</td>\n",
       "      <td>female</td>\n",
       "      <td>25.0000</td>\n",
       "      <td>1.0</td>\n",
       "      <td>2.0</td>\n",
       "      <td>113781</td>\n",
       "      <td>151.5500</td>\n",
       "      <td>C22 C26</td>\n",
       "      <td>S</td>\n",
       "      <td>NaN</td>\n",
       "      <td>NaN</td>\n",
       "      <td>Montreal, PQ / Chesterville, ON</td>\n",
       "    </tr>\n",
       "    <tr>\n",
       "      <th>5</th>\n",
       "      <td>1.0</td>\n",
       "      <td>1.0</td>\n",
       "      <td>Anderson, Mr. Harry</td>\n",
       "      <td>male</td>\n",
       "      <td>48.0000</td>\n",
       "      <td>0.0</td>\n",
       "      <td>0.0</td>\n",
       "      <td>19952</td>\n",
       "      <td>26.5500</td>\n",
       "      <td>E12</td>\n",
       "      <td>S</td>\n",
       "      <td>3</td>\n",
       "      <td>NaN</td>\n",
       "      <td>New York, NY</td>\n",
       "    </tr>\n",
       "    <tr>\n",
       "      <th>6</th>\n",
       "      <td>1.0</td>\n",
       "      <td>1.0</td>\n",
       "      <td>Andrews, Miss. Kornelia Theodosia</td>\n",
       "      <td>female</td>\n",
       "      <td>63.0000</td>\n",
       "      <td>1.0</td>\n",
       "      <td>0.0</td>\n",
       "      <td>13502</td>\n",
       "      <td>77.9583</td>\n",
       "      <td>D7</td>\n",
       "      <td>S</td>\n",
       "      <td>10</td>\n",
       "      <td>NaN</td>\n",
       "      <td>Hudson, NY</td>\n",
       "    </tr>\n",
       "    <tr>\n",
       "      <th>7</th>\n",
       "      <td>1.0</td>\n",
       "      <td>0.0</td>\n",
       "      <td>Andrews, Mr. Thomas Jr</td>\n",
       "      <td>male</td>\n",
       "      <td>39.0000</td>\n",
       "      <td>0.0</td>\n",
       "      <td>0.0</td>\n",
       "      <td>112050</td>\n",
       "      <td>0.0000</td>\n",
       "      <td>A36</td>\n",
       "      <td>S</td>\n",
       "      <td>NaN</td>\n",
       "      <td>NaN</td>\n",
       "      <td>Belfast, NI</td>\n",
       "    </tr>\n",
       "    <tr>\n",
       "      <th>8</th>\n",
       "      <td>1.0</td>\n",
       "      <td>1.0</td>\n",
       "      <td>Appleton, Mrs. Edward Dale (Charlotte Lamson)</td>\n",
       "      <td>female</td>\n",
       "      <td>53.0000</td>\n",
       "      <td>2.0</td>\n",
       "      <td>0.0</td>\n",
       "      <td>11769</td>\n",
       "      <td>51.4792</td>\n",
       "      <td>C101</td>\n",
       "      <td>S</td>\n",
       "      <td>D</td>\n",
       "      <td>NaN</td>\n",
       "      <td>Bayside, Queens, NY</td>\n",
       "    </tr>\n",
       "    <tr>\n",
       "      <th>9</th>\n",
       "      <td>1.0</td>\n",
       "      <td>0.0</td>\n",
       "      <td>Artagaveytia, Mr. Ramon</td>\n",
       "      <td>male</td>\n",
       "      <td>71.0000</td>\n",
       "      <td>0.0</td>\n",
       "      <td>0.0</td>\n",
       "      <td>PC 17609</td>\n",
       "      <td>49.5042</td>\n",
       "      <td>NaN</td>\n",
       "      <td>C</td>\n",
       "      <td>NaN</td>\n",
       "      <td>22.0</td>\n",
       "      <td>Montevideo, Uruguay</td>\n",
       "    </tr>\n",
       "  </tbody>\n",
       "</table>\n",
       "</div>"
      ],
      "text/plain": [
       "   pclass  survived                                             name     sex  \\\n",
       "0     1.0       1.0                    Allen, Miss. Elisabeth Walton  female   \n",
       "1     1.0       1.0                   Allison, Master. Hudson Trevor    male   \n",
       "2     1.0       0.0                     Allison, Miss. Helen Loraine  female   \n",
       "3     1.0       0.0             Allison, Mr. Hudson Joshua Creighton    male   \n",
       "4     1.0       0.0  Allison, Mrs. Hudson J C (Bessie Waldo Daniels)  female   \n",
       "5     1.0       1.0                              Anderson, Mr. Harry    male   \n",
       "6     1.0       1.0                Andrews, Miss. Kornelia Theodosia  female   \n",
       "7     1.0       0.0                           Andrews, Mr. Thomas Jr    male   \n",
       "8     1.0       1.0    Appleton, Mrs. Edward Dale (Charlotte Lamson)  female   \n",
       "9     1.0       0.0                          Artagaveytia, Mr. Ramon    male   \n",
       "\n",
       "       age  sibsp  parch    ticket      fare    cabin embarked boat   body  \\\n",
       "0  29.0000    0.0    0.0     24160  211.3375       B5        S    2    NaN   \n",
       "1   0.9167    1.0    2.0    113781  151.5500  C22 C26        S   11    NaN   \n",
       "2   2.0000    1.0    2.0    113781  151.5500  C22 C26        S  NaN    NaN   \n",
       "3  30.0000    1.0    2.0    113781  151.5500  C22 C26        S  NaN  135.0   \n",
       "4  25.0000    1.0    2.0    113781  151.5500  C22 C26        S  NaN    NaN   \n",
       "5  48.0000    0.0    0.0     19952   26.5500      E12        S    3    NaN   \n",
       "6  63.0000    1.0    0.0     13502   77.9583       D7        S   10    NaN   \n",
       "7  39.0000    0.0    0.0    112050    0.0000      A36        S  NaN    NaN   \n",
       "8  53.0000    2.0    0.0     11769   51.4792     C101        S    D    NaN   \n",
       "9  71.0000    0.0    0.0  PC 17609   49.5042      NaN        C  NaN   22.0   \n",
       "\n",
       "                         home.dest  \n",
       "0                     St Louis, MO  \n",
       "1  Montreal, PQ / Chesterville, ON  \n",
       "2  Montreal, PQ / Chesterville, ON  \n",
       "3  Montreal, PQ / Chesterville, ON  \n",
       "4  Montreal, PQ / Chesterville, ON  \n",
       "5                     New York, NY  \n",
       "6                       Hudson, NY  \n",
       "7                      Belfast, NI  \n",
       "8              Bayside, Queens, NY  \n",
       "9              Montevideo, Uruguay  "
      ]
     },
     "execution_count": 11,
     "metadata": {},
     "output_type": "execute_result"
    }
   ],
   "source": [
    "df.head (10)"
   ]
  },
  {
   "cell_type": "markdown",
   "metadata": {},
   "source": [
    "### Zwróciła moja uwagę 4 osoby o nazwisku Allison, mieszkający w tych samych kajutach: ojciec (30 lat), matka (25 lat),2-letnia dziewczynka i prawie roczny chłopiec. Ktoś prawdopodobnie zaopiekował się chłopcem,  ponieważ tylko on z całej czwórki przeżył katastrofę. ####"
   ]
  },
  {
   "cell_type": "markdown",
   "metadata": {},
   "source": [
    "### Przypatrzmy sie jeszcze szalupom ratunkowym:"
   ]
  },
  {
   "cell_type": "code",
   "execution_count": 12,
   "metadata": {
    "jupyter": {
     "source_hidden": true
    }
   },
   "outputs": [
    {
     "data": {
      "text/plain": [
       "boat\n",
       "13         39\n",
       "C          38\n",
       "15         37\n",
       "14         33\n",
       "4          31\n",
       "10         29\n",
       "5          27\n",
       "3          26\n",
       "9          25\n",
       "11         25\n",
       "16         23\n",
       "8          23\n",
       "7          23\n",
       "D          20\n",
       "6          20\n",
       "12         19\n",
       "2          13\n",
       "A          11\n",
       "B           9\n",
       "1           5\n",
       "5 7         2\n",
       "C D         2\n",
       "13 15       2\n",
       "5 9         1\n",
       "8 10        1\n",
       "13 15 B     1\n",
       "15 16       1\n",
       "Name: count, dtype: int64"
      ]
     },
     "execution_count": 12,
     "metadata": {},
     "output_type": "execute_result"
    }
   ],
   "source": [
    "df['boat'].value_counts()\n"
   ]
  },
  {
   "cell_type": "markdown",
   "metadata": {},
   "source": [
    "### Pojawiaja sie podwojne liczby. Zakladam ze sa one bledne i je odrzucam. Pozostaje 20 szalup ratunkowych widoczna duza rozbieznosc ilosci ludzi w lodziach ratunkowych, w 13- 42 pasazerow, a w 1 - 5, 2- 13 . Jesliby przyjac ze lodzie ratunkowe byly zaladowywane kolejno tak jak sa ponumerowane, nasuwa sie wniosek, ze na poczatku ladowano tez do lodzi mniej pasazerow dopiero pozniej wypelniano lodzie wieksza iloscia ludzi. Wniosek jest taki, ze pomimo ze mogly pomiescic wiecej pasazerow, nie wykorzystaly pelnej ladownosci. Poniewaz jak wiadomo, statek mial byc niezatapialny, byc moze nawet zaloga nie wiedziala jaka jest calkowita pojemnosc szalup ratunkowych i sprawdzano to w trakcie wypelniania szalup. W mojej dalszej analizie przyjrzę się przeżywalności pasażerów Titanica."
   ]
  },
  {
   "cell_type": "markdown",
   "metadata": {},
   "source": [
    "# 2. Brakujace wartosci"
   ]
  },
  {
   "cell_type": "code",
   "execution_count": 13,
   "metadata": {
    "jupyter": {
     "source_hidden": true
    }
   },
   "outputs": [
    {
     "data": {
      "text/plain": [
       "pclass          1\n",
       "survived        1\n",
       "name            1\n",
       "sex             1\n",
       "age           264\n",
       "sibsp           1\n",
       "parch           1\n",
       "ticket          1\n",
       "fare            2\n",
       "cabin        1015\n",
       "embarked        3\n",
       "boat          824\n",
       "body         1189\n",
       "home.dest     565\n",
       "dtype: int64"
      ]
     },
     "execution_count": 13,
     "metadata": {},
     "output_type": "execute_result"
    }
   ],
   "source": [
    "df.isnull().sum() "
   ]
  },
  {
   "cell_type": "markdown",
   "metadata": {},
   "source": [
    "### Wszystkie wartosci, z wyjatkiem age, cabin, boat and body zastapie 'Unknown', age zastapie mediana w pozniejszym kroku. Celowo nie robie tego teraz, gdyz chce miec mozliwie najprawdziwsze dane do analizy"
   ]
  },
  {
   "cell_type": "markdown",
   "metadata": {},
   "source": [
    "# 3. Eksplorujemy poszczegolne kolumny"
   ]
  },
  {
   "cell_type": "markdown",
   "metadata": {},
   "source": [
    "## Na tym etapie chece przesledzic przezywalnosc i jakie okolicznosci na nia wplynely."
   ]
  },
  {
   "cell_type": "markdown",
   "metadata": {},
   "source": [
    "### Sprawdzmy, czy klasa biletu miala znaczenie jesli chodzi o przezywalnosc:"
   ]
  },
  {
   "cell_type": "code",
   "execution_count": 14,
   "metadata": {
    "jupyter": {
     "source_hidden": true
    }
   },
   "outputs": [
    {
     "ename": "NameError",
     "evalue": "name 'plt' is not defined",
     "output_type": "error",
     "traceback": [
      "\u001b[31m---------------------------------------------------------------------------\u001b[39m",
      "\u001b[31mNameError\u001b[39m                                 Traceback (most recent call last)",
      "\u001b[36mCell\u001b[39m\u001b[36m \u001b[39m\u001b[32mIn[14]\u001b[39m\u001b[32m, line 9\u001b[39m\n\u001b[32m      5\u001b[39m total_by_class = df_clean[\u001b[33m'\u001b[39m\u001b[33mpclass\u001b[39m\u001b[33m'\u001b[39m].value_counts().sort_index()\n\u001b[32m      7\u001b[39m survival_rate_by_class = survival_by_class / total_by_class\n\u001b[32m----> \u001b[39m\u001b[32m9\u001b[39m fig, ax = plt.subplots()\n\u001b[32m     10\u001b[39m ax.pie(survival_rate_by_class, labels=survival_rate_by_class.index, autopct=\u001b[33m'\u001b[39m\u001b[38;5;132;01m%1.1f\u001b[39;00m\u001b[38;5;132;01m%%\u001b[39;00m\u001b[33m'\u001b[39m, startangle=\u001b[32m90\u001b[39m)\n\u001b[32m     11\u001b[39m ax.axis(\u001b[33m'\u001b[39m\u001b[33mequal\u001b[39m\u001b[33m'\u001b[39m)  \n",
      "\u001b[31mNameError\u001b[39m: name 'plt' is not defined"
     ]
    }
   ],
   "source": [
    "df_clean = df.dropna(subset=['pclass', 'survived'])\n",
    "\n",
    "survival_by_class = df_clean.groupby('pclass')['survived'].sum()\n",
    "\n",
    "total_by_class = df_clean['pclass'].value_counts().sort_index()\n",
    "\n",
    "survival_rate_by_class = survival_by_class / total_by_class\n",
    "\n",
    "fig, ax = plt.subplots()\n",
    "ax.pie(survival_rate_by_class, labels=survival_rate_by_class.index, autopct='%1.1f%%', startangle=90)\n",
    "ax.axis('equal')  \n",
    "plt.title('Przezywalnosc wg. klasy biletu')"
   ]
  },
  {
   "cell_type": "code",
   "execution_count": null,
   "metadata": {
    "jupyter": {
     "source_hidden": true
    }
   },
   "outputs": [],
   "source": [
    "import seaborn as sns\n",
    "import matplotlib.pyplot as plt\n",
    "\n",
    "sns. set_palette ( palette='Set1', n_colors = 3 ) # ustawmy ladna palete barw\n",
    "df_clean = df.dropna(subset=['boat'])\n",
    "\n",
    "boat_class_counts = df_clean.groupby(['boat', 'pclass']).size().unstack(fill_value=0)\n",
    "\n",
    "fig, ax = plt.subplots(figsize=(12, 8))\n",
    "boat_class_counts.plot(kind='bar', stacked=True, ax=ax)\n",
    "ax.set_title('Liczba ludzi w szalupach ratunkowych wg. klasy biletu')\n",
    "ax.set_xlabel('Numer szalupy ratunkowej')\n",
    "ax.set_ylabel('Liczba ludzi')\n",
    "ax.legend(title='Klasa biletu')"
   ]
  },
  {
   "cell_type": "markdown",
   "metadata": {},
   "source": [
    "### Na wykresach widac, ze klasa biletu miala wplyw na przezywalnosc, gdzie pasazerowie 1 klasy mieli 47,5% szansy na przezycie, 2 klasy - 32,9%, a pasazerowie 3 klasy tylko 19,6%. Na wykresie 2 rowniez widac, ze lodzie byly poczatkowo wypelniane pasazerami 1 klasy, dopiero po wypelnieniu ok 1/3 lodzi, zaczeto je wypelniac 2 klasa, a na koncu 3 klasa. Widoczne jest tez, ze do szalup ratunkowych ladowano poczatkowo mniej ludzi, potem wiecej."
   ]
  },
  {
   "cell_type": "markdown",
   "metadata": {},
   "source": [
    "### Sprawdzmy teraz przezywalnosc jesli chodzi o plec:"
   ]
  },
  {
   "cell_type": "code",
   "execution_count": null,
   "metadata": {
    "jupyter": {
     "source_hidden": true
    }
   },
   "outputs": [],
   "source": [
    "df_clean = df.dropna(subset=['survived', 'sex'])\n",
    "\n",
    "plt.figure(figsize=(8, 6))\n",
    "sns.countplot(data=df_clean, x='sex', hue='survived')\n",
    "plt.title('Przezywalnosc wg. plci')\n",
    "plt.xlabel('Plec')\n",
    "plt.ylabel('Liczba')\n",
    "plt.legend(title='Przezyli', labels=['Nie', 'Tak'])"
   ]
  },
  {
   "cell_type": "markdown",
   "metadata": {},
   "source": [
    "### Wyraznie widac ze duzo wieksza szanse na przezycie mialy kobiety"
   ]
  },
  {
   "cell_type": "markdown",
   "metadata": {},
   "source": [
    "### Sprawdzmy teraz przezywalnosc jesli chodzi o dzieci 1, 2, i 3 klasy:"
   ]
  },
  {
   "cell_type": "code",
   "execution_count": null,
   "metadata": {
    "jupyter": {
     "source_hidden": true
    }
   },
   "outputs": [],
   "source": [
    "# Sprawdzmy teraz przezywalnosc jesli chodzi o dzieci 1, 2, i 3 klasy\n",
    "\n",
    "# Dzieci obu plci o wieku mniejszym lub rownym 16 lat\n",
    "children_df = df[df['age'] <= 16\n",
    "]\n",
    "grouped = children_df.groupby(['pclass', 'survived']).size().unstack()\n",
    "\n",
    "fig, ax = plt.subplots(figsize=(8, 6))\n",
    "grouped.plot(kind='bar', stacked=True, ax=ax)\n",
    "ax.set_title('Przezywalnosc dzieci wg. klasy biletu')\n",
    "ax.set_xlabel('Klasa biletu')\n",
    "ax.set_ylabel('Liczba dzieci')\n",
    "ax.legend(['Nie przezyli', 'Przezyli'], title='Przezywalnosc')"
   ]
  },
  {
   "cell_type": "markdown",
   "metadata": {},
   "source": [
    "### Z powyzszego wykresu wynika, ze dzieci do 16 roku zycia i 1 i 2 klasy, mialy bardzo duza szanse przezycia. U dzieci w 3 klasie nie widac tej zaleznosci: wiecej dzieci w 3 klasie zginelo niz przezylo"
   ]
  },
  {
   "cell_type": "markdown",
   "metadata": {},
   "source": [
    "# 4. Relacje miedzy kolumnami"
   ]
  },
  {
   "cell_type": "markdown",
   "metadata": {},
   "source": [
    "### Przyjrzyjmy sie blizej przezywalnosci, jesli chodzi o plec i klase biletu:"
   ]
  },
  {
   "cell_type": "code",
   "execution_count": null,
   "metadata": {
    "jupyter": {
     "source_hidden": true
    }
   },
   "outputs": [],
   "source": [
    "\n",
    "df_clean = df.dropna(subset=['pclass', 'survived', 'sex'])\n",
    "pivot_table = df_clean.pivot_table(index='pclass', columns='sex', values='survived', aggfunc='mean')\n",
    "\n",
    "plt.figure(figsize=(8, 6))\n",
    "sns.heatmap(pivot_table, annot=True, cmap='coolwarm', cbar_kws={'label': 'Przezywalnosc'})\n",
    "plt.title('Przezywalnosc wg. plci i klasy biletu')\n",
    "plt.xlabel('Plec')\n",
    "plt.ylabel('Klasa biletu')"
   ]
  },
  {
   "cell_type": "markdown",
   "metadata": {},
   "source": [
    "### Widac ze najwieksza szanse na przezycie mialy kobiety 1 i 2 klasy, kobiety 3 klasy mialy juz mala szanse, a mezczyzni 1 klasy jeszcze mniejsza szanse na przezycie. Mezczyzni 2 i 3 klasy praktycznie nie mieli szansy przezycia"
   ]
  },
  {
   "cell_type": "markdown",
   "metadata": {},
   "source": [
    "# 5. Poszukiwanie wartosci odstajacych"
   ]
  },
  {
   "cell_type": "markdown",
   "metadata": {},
   "source": [
    "### Narysujmy wykresy ceny biletu i przezywalnosci:"
   ]
  },
  {
   "cell_type": "code",
   "execution_count": null,
   "metadata": {
    "jupyter": {
     "source_hidden": true
    }
   },
   "outputs": [],
   "source": [
    "survived = df[df['survived'] == 1]\n",
    "not_survived = df[df['survived'] == 0]\n",
    "\n",
    "fig, axes = plt.subplots(1, 2, figsize=(12, 6))\n",
    "\n",
    "sns.boxplot(ax=axes[0], y=not_survived['fare'])\n",
    "axes[0].set_title('Cena biletu pasazerow ktorzy nie przezyli')\n",
    "axes[0].set_ylabel('Fare')\n",
    "\n",
    "sns.boxplot(ax=axes[1], y=survived['fare'])\n",
    "axes[1].set_title('Cena biletu pasazerow ktorzy przezyli')\n",
    "axes[1].set_ylabel('Cena')"
   ]
  },
  {
   "cell_type": "markdown",
   "metadata": {},
   "source": [
    "### Przyjmujac, ze cena zalezala od klasy biletu i pamietajac ze pierwsza klasa byla wyraznie preferowana jesli chodzi o dostep do lodzi ratunkowych,przykuwa uwage duza liczba wartosci odstajacych u pasazerow ktorzy nie przezyli. Sa to prawdopodobnie mezczyzni 1 klasy, ktorzy odstapili miejsca w szalupach ratunkowych kobietom i dzieciom\n",
    "    "
   ]
  },
  {
   "cell_type": "markdown",
   "metadata": {},
   "source": [
    "# 6. Transformacja danych / naprawa bledow"
   ]
  },
  {
   "cell_type": "markdown",
   "metadata": {},
   "source": [
    "### Wszystkie wartosci, z wyjatkiem age, cabin, boat and body zastapie 'Unknown', age zastapie mediana"
   ]
  },
  {
   "cell_type": "code",
   "execution_count": null,
   "metadata": {
    "jupyter": {
     "source_hidden": true
    }
   },
   "outputs": [],
   "source": [
    "df = df.fillna({\n",
    "    'age': df['age'].median(),\n",
    "    'pclass': 'Unknown',\n",
    "    'survived': 'Unknown',\n",
    "    'name': 'Unknown',\n",
    "    'sex': 'Unknown',\n",
    "    'sibsp': 'Unknown',\n",
    "    'parch': 'Unknown',\n",
    "    'ticket': 'Unknown',\n",
    "    'fare': 'Unknown',\n",
    "    'embarked': 'Unknown',\n",
    "    'home.dest': 'Unknown',\n",
    "  \n",
    "})\n",
    "df"
   ]
  },
  {
   "cell_type": "markdown",
   "metadata": {},
   "source": [
    "# **Podsumowanie**"
   ]
  },
  {
   "cell_type": "markdown",
   "metadata": {},
   "source": [
    "### 1.    RMS Titanic podróżowało **1310 pasażerów**. Statek mial 890 osób z zalogi.  Wielu pasażerów podróżowało statkiem Titanic do Ameryki w celach osiedleńczych, ale tez niektórzy bardziej zamożni podróżowali w celach wycieczkowych czy biznesowych. Na statku były **3 klasy** pasażerów, 186 kajut było rozdysponowanych pomiędzy pasażerów 1 i 2 klasy. **Najmłodszy pasażer mial 1 miesiąc, a najstarszy 80 lat**."
   ]
  },
  {
   "cell_type": "markdown",
   "metadata": {},
   "source": [
    "### 2. Widoczny **duży dramatyzm** danych, np 4- osobowa **rodzina Allisonow**: ojciec (30 lat), matka (25 lat),2-letnia dziewczynka i prawie roczny chłopiec. Ktoś prawdopodobnie zaopiekował się chłopcem, ponieważ tylko on z całej czwórki przeżył katastrofę.\n"
   ]
  },
  {
   "cell_type": "markdown",
   "metadata": {},
   "source": [
    "### 3. Przyczyna smierci pasazerow Titanica byla zbyt **mala liczba 20 szalup ratunkowych**. Zwraca tez uwage **duza rozbieznosc liczby osob w lodziach ratunkowych**. Widać, ze na poczatku ladowano do lodzi mniej pasazerow dopiero pozniej wypelniano lodzie wieksza iloscia ludzi. Wniosek jest taki, ze pomimo ze mogly pomiescic wiecej pasazerow, **nie wykorzystaly pelnej ladownosci**. Poniewaz jak wiadomo, statek mial byc niezatapialny, byc moze nawet zaloga nie wiedziala jaka jest calkowita pojemnosc szalup ratunkowych i sprawdzano to w trakcie wypelniania szalup. "
   ]
  },
  {
   "cell_type": "markdown",
   "metadata": {},
   "source": [
    "### 4. Z wykresów wynika, ze **klasa biletu miala wplyw na przezywalnosc**, gdzie pasazerowie 1 klasy mieli 47,5% szansy na przezycie, 2 klasy - 32,9%, a pasazerowie 3 klasy tylko 19,6%. Lodzie byly poczatkowo wypelniane pasazerami 1 klasy, dopiero po wypelnieniu ok 1/3 lodzi, zaczeto je wypelniac 2 klasa, a na koncu 3 klasa. "
   ]
  },
  {
   "cell_type": "markdown",
   "metadata": {},
   "source": [
    "### 5. Widac ze **najwieksza szanse na przezycie** mialy **kobiety i dzieci 1 i 2 klasy** - to ich przepuszczano przodem do szalup ratunkowych i one miały praktycznie całkowite szanse na przetrwanie. Kobiety i dzieci 3 klasy mialy juz mala szanse, a mezczyzni 1 klasy jeszcze mniejsza szanse na przezycie. **Mezczyzni 2 i 3 klasy praktycznie nie mieli szansy przetrwania**."
   ]
  },
  {
   "cell_type": "markdown",
   "metadata": {},
   "source": [
    "### 6. Jest 1 tajemniczy pasażer (1309) o którym nic nie wiadomo. Być może to on posłużył jako inspiracja dla charakteru Jacka, z filmu Jamesa Camerona?"
   ]
  },
  {
   "cell_type": "markdown",
   "metadata": {},
   "source": [
    "![Infografika rozkladu lodzi ratunkowych](https://upload.wikimedia.org/wikipedia/commons/thumb/4/43/RMS_Titanic_boat_deck_plan_EN.svg/1176px-RMS_Titanic_boat_deck_plan_EN.svg.png)"
   ]
  },
  {
   "cell_type": "markdown",
   "metadata": {},
   "source": [
    "Infografika układu łodzi ratunkowych Titanica. Kropki oznaczają liczbę osób na łodzi i maksymalną pojemność."
   ]
  },
  {
   "cell_type": "code",
   "execution_count": null,
   "metadata": {},
   "outputs": [],
   "source": []
  }
 ],
 "metadata": {
  "kernelspec": {
   "display_name": "Python 3 (ipykernel)",
   "language": "python",
   "name": "python3"
  },
  "language_info": {
   "codemirror_mode": {
    "name": "ipython",
    "version": 3
   },
   "file_extension": ".py",
   "mimetype": "text/x-python",
   "name": "python",
   "nbconvert_exporter": "python",
   "pygments_lexer": "ipython3",
   "version": "3.11.0"
  }
 },
 "nbformat": 4,
 "nbformat_minor": 4
}
